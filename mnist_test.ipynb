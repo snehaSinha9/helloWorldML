{
  "nbformat": 4,
  "nbformat_minor": 0,
  "metadata": {
    "colab": {
      "name": "mnist_test.ipynb",
      "version": "0.3.2",
      "provenance": [],
      "include_colab_link": true
    },
    "kernelspec": {
      "name": "python3",
      "display_name": "Python 3"
    }
  },
  "cells": [
    {
      "cell_type": "markdown",
      "metadata": {
        "id": "view-in-github",
        "colab_type": "text"
      },
      "source": [
        "<a href=\"https://colab.research.google.com/github/snehaSinha9/helloWorldML/blob/master/mnist_test.ipynb\" target=\"_parent\"><img src=\"https://colab.research.google.com/assets/colab-badge.svg\" alt=\"Open In Colab\"/></a>"
      ]
    },
    {
      "cell_type": "code",
      "metadata": {
        "id": "EAbfs92gD9hF",
        "colab_type": "code",
        "colab": {}
      },
      "source": [
        "from __future__ import print_function"
      ],
      "execution_count": 0,
      "outputs": []
    },
    {
      "cell_type": "code",
      "metadata": {
        "id": "m3rse-bVEKkQ",
        "colab_type": "code",
        "colab": {
          "base_uri": "https://localhost:8080/",
          "height": 34
        },
        "outputId": "d2170645-3398-4609-e517-f1c9abf3eda0"
      },
      "source": [
        "import keras\n",
        "from keras.datasets import mnist\n",
        "from keras.models import Sequential\n",
        "from keras.layers import Dense, Dropout\n",
        "from keras.optimizers import RMSprop"
      ],
      "execution_count": 2,
      "outputs": [
        {
          "output_type": "stream",
          "text": [
            "Using TensorFlow backend.\n"
          ],
          "name": "stderr"
        }
      ]
    },
    {
      "cell_type": "code",
      "metadata": {
        "id": "fbsnh3fSEWQ6",
        "colab_type": "code",
        "colab": {
          "base_uri": "https://localhost:8080/",
          "height": 52
        },
        "outputId": "95fb5f24-a316-464c-a1a4-c5b1b15fcbc7"
      },
      "source": [
        "(xtrn,ytrn),(xtst,ytst) = mnist.load_data()\n"
      ],
      "execution_count": 4,
      "outputs": [
        {
          "output_type": "stream",
          "text": [
            "Downloading data from https://s3.amazonaws.com/img-datasets/mnist.npz\n",
            "11493376/11490434 [==============================] - 1s 0us/step\n"
          ],
          "name": "stdout"
        }
      ]
    },
    {
      "cell_type": "code",
      "metadata": {
        "id": "SFFn2P_sEZec",
        "colab_type": "code",
        "colab": {}
      },
      "source": [
        "batch_size = 128\n",
        "num_classes = 10\n",
        "epochs = 20"
      ],
      "execution_count": 0,
      "outputs": []
    },
    {
      "cell_type": "code",
      "metadata": {
        "id": "qc5ir94gEps1",
        "colab_type": "code",
        "colab": {
          "base_uri": "https://localhost:8080/",
          "height": 86
        },
        "outputId": "4aa34963-beee-4035-c068-5d3b8859275e"
      },
      "source": [
        "print('x train ', xtrn.shape)\n",
        "print('y train ', ytrn.shape)\n",
        "print('x test ', xtst.shape)\n",
        "print('y test ', ytst.shape)\n"
      ],
      "execution_count": 15,
      "outputs": [
        {
          "output_type": "stream",
          "text": [
            "x train  (60000, 28, 28)\n",
            "y train  (60000,)\n",
            "x test  (10000, 28, 28)\n",
            "y test  (10000,)\n"
          ],
          "name": "stdout"
        }
      ]
    },
    {
      "cell_type": "code",
      "metadata": {
        "id": "fcDVZG8vEsO4",
        "colab_type": "code",
        "colab": {}
      },
      "source": [
        "#change shape to 2dim\n",
        "xtrn = xtrn.reshape(60000,28*28)\n",
        "xtst = xtst.reshape(10000,28*28)\n",
        "xtrn.astype('float32')\n",
        "xtst.astype('float32')\n",
        "xtrn = xtrn / 255\n",
        "xtst = xtst / 255"
      ],
      "execution_count": 0,
      "outputs": []
    },
    {
      "cell_type": "code",
      "metadata": {
        "id": "HMS-abmyFVXx",
        "colab_type": "code",
        "colab": {
          "base_uri": "https://localhost:8080/",
          "height": 52
        },
        "outputId": "288519ba-ff9a-41dc-ea5b-066844159bea"
      },
      "source": [
        "y_train = keras.utils.to_categorical(ytrn,num_classes)\n",
        "y_test = keras.utils.to_categorical(ytst,num_classes)\n",
        "print(y_train[0])\n",
        "print(ytrn[0])"
      ],
      "execution_count": 24,
      "outputs": [
        {
          "output_type": "stream",
          "text": [
            "[0. 0. 0. 0. 0. 1. 0. 0. 0. 0.]\n",
            "5\n"
          ],
          "name": "stdout"
        }
      ]
    },
    {
      "cell_type": "code",
      "metadata": {
        "id": "I26egWFZFfmf",
        "colab_type": "code",
        "colab": {}
      },
      "source": [
        "#neural net\n",
        "model = Sequential()\n",
        "#512 neurons, using ReLu activation\n",
        "model.add(Dense(512, activation='relu', input_shape=(784,)))\n",
        "#learning rate\n",
        "model.add(Dropout(0.2))\n",
        "model.add(Dense(512,activation='relu'))\n",
        "model.add(Dropout(0.2))\n",
        "model.add(Dense(num_classes, activation='softmax'))"
      ],
      "execution_count": 0,
      "outputs": []
    },
    {
      "cell_type": "code",
      "metadata": {
        "id": "DWHoiFXpJAcL",
        "colab_type": "code",
        "colab": {
          "base_uri": "https://localhost:8080/",
          "height": 312
        },
        "outputId": "0390fda0-db8a-4fba-fa86-534c4606cc3c"
      },
      "source": [
        "model.summary()"
      ],
      "execution_count": 29,
      "outputs": [
        {
          "output_type": "stream",
          "text": [
            "_________________________________________________________________\n",
            "Layer (type)                 Output Shape              Param #   \n",
            "=================================================================\n",
            "dense_3 (Dense)              (None, 512)               401920    \n",
            "_________________________________________________________________\n",
            "dropout_3 (Dropout)          (None, 512)               0         \n",
            "_________________________________________________________________\n",
            "dense_4 (Dense)              (None, 512)               262656    \n",
            "_________________________________________________________________\n",
            "dropout_4 (Dropout)          (None, 512)               0         \n",
            "_________________________________________________________________\n",
            "dense_5 (Dense)              (None, 10)                5130      \n",
            "=================================================================\n",
            "Total params: 669,706\n",
            "Trainable params: 669,706\n",
            "Non-trainable params: 0\n",
            "_________________________________________________________________\n"
          ],
          "name": "stdout"
        }
      ]
    },
    {
      "cell_type": "code",
      "metadata": {
        "id": "nzawJBmXLFfT",
        "colab_type": "code",
        "colab": {}
      },
      "source": [
        "#loss is the error function\n",
        "model.compile(loss='categorical_crossentropy',optimizer=RMSprop(),metrics=['accuracy'])\n"
      ],
      "execution_count": 0,
      "outputs": []
    },
    {
      "cell_type": "code",
      "metadata": {
        "id": "nF56mL9kLhxZ",
        "colab_type": "code",
        "colab": {
          "base_uri": "https://localhost:8080/",
          "height": 801
        },
        "outputId": "942c6c37-1aa3-4db2-a04e-91dc9b4af744"
      },
      "source": [
        "history = model.fit(xtrn, y_train, batch_size =batch_size,epochs=epochs, verbose=1,validation_data=(xtst,y_test))"
      ],
      "execution_count": 34,
      "outputs": [
        {
          "output_type": "stream",
          "text": [
            "W0628 13:04:50.547092 139813481109376 deprecation.py:323] From /usr/local/lib/python3.6/dist-packages/tensorflow/python/ops/math_grad.py:1250: add_dispatch_support.<locals>.wrapper (from tensorflow.python.ops.array_ops) is deprecated and will be removed in a future version.\n",
            "Instructions for updating:\n",
            "Use tf.where in 2.0, which has the same broadcast rule as np.where\n"
          ],
          "name": "stderr"
        },
        {
          "output_type": "stream",
          "text": [
            "Train on 60000 samples, validate on 10000 samples\n",
            "Epoch 1/20\n",
            "60000/60000 [==============================] - 10s 168us/step - loss: 0.2489 - acc: 0.9230 - val_loss: 0.1077 - val_acc: 0.9653\n",
            "Epoch 2/20\n",
            "60000/60000 [==============================] - 10s 161us/step - loss: 0.1065 - acc: 0.9680 - val_loss: 0.0881 - val_acc: 0.9717\n",
            "Epoch 3/20\n",
            "60000/60000 [==============================] - 10s 161us/step - loss: 0.0745 - acc: 0.9771 - val_loss: 0.0700 - val_acc: 0.9801\n",
            "Epoch 4/20\n",
            "60000/60000 [==============================] - 9s 156us/step - loss: 0.0623 - acc: 0.9814 - val_loss: 0.0768 - val_acc: 0.9794\n",
            "Epoch 5/20\n",
            "60000/60000 [==============================] - 10s 158us/step - loss: 0.0501 - acc: 0.9850 - val_loss: 0.0839 - val_acc: 0.9779\n",
            "Epoch 6/20\n",
            "60000/60000 [==============================] - 10s 159us/step - loss: 0.0445 - acc: 0.9872 - val_loss: 0.0770 - val_acc: 0.9818\n",
            "Epoch 7/20\n",
            "60000/60000 [==============================] - 9s 158us/step - loss: 0.0394 - acc: 0.9888 - val_loss: 0.0880 - val_acc: 0.9803\n",
            "Epoch 8/20\n",
            "60000/60000 [==============================] - 9s 157us/step - loss: 0.0350 - acc: 0.9900 - val_loss: 0.0888 - val_acc: 0.9798\n",
            "Epoch 9/20\n",
            "60000/60000 [==============================] - 9s 156us/step - loss: 0.0318 - acc: 0.9905 - val_loss: 0.0829 - val_acc: 0.9815\n",
            "Epoch 10/20\n",
            "60000/60000 [==============================] - 10s 158us/step - loss: 0.0304 - acc: 0.9913 - val_loss: 0.0938 - val_acc: 0.9812\n",
            "Epoch 11/20\n",
            "60000/60000 [==============================] - 9s 157us/step - loss: 0.0274 - acc: 0.9921 - val_loss: 0.0875 - val_acc: 0.9828\n",
            "Epoch 12/20\n",
            "60000/60000 [==============================] - 9s 158us/step - loss: 0.0233 - acc: 0.9931 - val_loss: 0.0944 - val_acc: 0.9820\n",
            "Epoch 13/20\n",
            "60000/60000 [==============================] - 9s 158us/step - loss: 0.0236 - acc: 0.9934 - val_loss: 0.1166 - val_acc: 0.9800\n",
            "Epoch 14/20\n",
            "60000/60000 [==============================] - 9s 156us/step - loss: 0.0232 - acc: 0.9938 - val_loss: 0.0992 - val_acc: 0.9807\n",
            "Epoch 15/20\n",
            "60000/60000 [==============================] - 9s 155us/step - loss: 0.0222 - acc: 0.9939 - val_loss: 0.0972 - val_acc: 0.9843\n",
            "Epoch 16/20\n",
            "60000/60000 [==============================] - 9s 156us/step - loss: 0.0212 - acc: 0.9945 - val_loss: 0.1048 - val_acc: 0.9814\n",
            "Epoch 17/20\n",
            "60000/60000 [==============================] - 9s 154us/step - loss: 0.0194 - acc: 0.9943 - val_loss: 0.1211 - val_acc: 0.9825\n",
            "Epoch 18/20\n",
            "60000/60000 [==============================] - 9s 154us/step - loss: 0.0210 - acc: 0.9945 - val_loss: 0.1113 - val_acc: 0.9828\n",
            "Epoch 19/20\n",
            "60000/60000 [==============================] - 9s 155us/step - loss: 0.0196 - acc: 0.9950 - val_loss: 0.1025 - val_acc: 0.9843\n",
            "Epoch 20/20\n",
            "60000/60000 [==============================] - 9s 155us/step - loss: 0.0189 - acc: 0.9951 - val_loss: 0.1006 - val_acc: 0.9835\n"
          ],
          "name": "stdout"
        }
      ]
    },
    {
      "cell_type": "code",
      "metadata": {
        "id": "z9gLliQ_MB5J",
        "colab_type": "code",
        "colab": {}
      },
      "source": [
        "score = model.evaluate(xtst,y_test, verbose=0)"
      ],
      "execution_count": 0,
      "outputs": []
    },
    {
      "cell_type": "code",
      "metadata": {
        "id": "yyZVc0R4M6sq",
        "colab_type": "code",
        "colab": {
          "base_uri": "https://localhost:8080/",
          "height": 52
        },
        "outputId": "daa74df6-2c03-4f05-93f3-45ce4a1f31f0"
      },
      "source": [
        "print('test loss ', score[0])\n",
        "print('test acc ', score[1])"
      ],
      "execution_count": 37,
      "outputs": [
        {
          "output_type": "stream",
          "text": [
            "test loss  0.10058569427496841\n",
            "test acc  0.9835\n"
          ],
          "name": "stdout"
        }
      ]
    },
    {
      "cell_type": "code",
      "metadata": {
        "id": "PfmlJ0ukNHk7",
        "colab_type": "code",
        "colab": {}
      },
      "source": [
        ""
      ],
      "execution_count": 0,
      "outputs": []
    }
  ]
}